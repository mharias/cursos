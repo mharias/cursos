{
 "cells": [
  {
   "cell_type": "markdown",
   "metadata": {},
   "source": [
    "# Estudio de Algoritmo Gibbs Sampling"
   ]
  },
  {
   "cell_type": "markdown",
   "metadata": {},
   "source": [
    "Modelo en `python` del algoritmo de muestreo de Gibbs:\n",
    "https://www.coursera.org/learn/mcmc-bayesian-statistics/lecture/Ilg9Z/computing-example-with-normal-likelihood\n",
    "\n",
    "Artículos de medium :\n"
   ]
  },
  {
   "cell_type": "code",
   "execution_count": 1,
   "metadata": {},
   "outputs": [],
   "source": [
    "from scipy.stats import beta,gamma,norm,invgamma,uniform\n",
    "import scipy.special\n",
    "import numpy as np\n",
    "from sklearn.linear_model import LinearRegression\n",
    "from scipy import optimize"
   ]
  },
  {
   "cell_type": "code",
   "execution_count": 2,
   "metadata": {},
   "outputs": [],
   "source": [
    "import matplotlib.pyplot as plt"
   ]
  },
  {
   "cell_type": "code",
   "execution_count": 3,
   "metadata": {},
   "outputs": [],
   "source": [
    "import pandas as pd\n",
    "import math"
   ]
  },
  {
   "cell_type": "code",
   "execution_count": 4,
   "metadata": {},
   "outputs": [],
   "source": [
    "import arviz as az\n",
    "\n",
    "import pymc3 as pm\n",
    "\n",
    "from pymc3 import *\n",
    "\n",
    "import theano.tensor as tt\n",
    "import warnings;\n",
    "warnings.filterwarnings('ignore');"
   ]
  },
  {
   "cell_type": "code",
   "execution_count": 5,
   "metadata": {},
   "outputs": [
    {
     "data": {
      "text/plain": [
       "'3.8'"
      ]
     },
     "execution_count": 5,
     "metadata": {},
     "output_type": "execute_result"
    }
   ],
   "source": [
    "pm.__version__"
   ]
  },
  {
   "cell_type": "code",
   "execution_count": 79,
   "metadata": {},
   "outputs": [],
   "source": [
    "def update_mu(n, ybar, sig2, mu_0, sig2_0):\n",
    "    sig2_1 = 1.0 / (n/sig2+1.0/sig2_0)\n",
    "    mu_1 = sig2_1 * (n * ybar / sig2 + mu_0 / sig2_0)\n",
    "    resultado = norm.rvs(loc = mu_1, scale = np.sqrt(sig2_1), size=1)\n",
    "    return resultado[0]\n"
   ]
  },
  {
   "cell_type": "code",
   "execution_count": 91,
   "metadata": {},
   "outputs": [],
   "source": [
    "def update_sig2 (n, y, mu, nu_0, beta_0):\n",
    "    nu_1 = nu_0 + n / 2.0\n",
    "    sumsq = np.sum((y - mu)**2) # vectorized\n",
    "    beta_1 = beta_0 + sumsq / 2.0\n",
    "    out_gamma = gamma.rvs(size=1, a = nu_1, scale=1/beta_1) # scale is equivalent to 1/beta_1\n",
    "    return 1.0 / out_gamma[0] # reciprocal of a gamma random variable is distributed inv-gamma\n",
    "\n"
   ]
  },
  {
   "cell_type": "code",
   "execution_count": 92,
   "metadata": {},
   "outputs": [],
   "source": [
    "def gibbs (y, n_iter, init, prior):\n",
    "    ybar = y.mean()\n",
    "    n = len(y)\n",
    "  \n",
    "  ## initialize\n",
    "    mu_out = []\n",
    "    sig2_out = []\n",
    "    mu_now = init['mu']\n",
    "  \n",
    "  ## Gibbs sampler\n",
    "    for i in range(n_iter):\n",
    "        \n",
    "        sig2_now = update_sig2(n=n, \n",
    "                               y=y, \n",
    "                               mu=mu_now, \n",
    "                               nu_0=prior['nu_0'], \n",
    "                               beta_0=prior['beta_0'])\n",
    "        mu_now = update_mu(n=n, \n",
    "                           ybar=ybar, \n",
    "                           sig2=sig2_now, \n",
    "                           mu_0=prior['mu_0'], \n",
    "                           sig2_0=prior['sig2_0'])\n",
    "        sig2_out.append(sig2_now)\n",
    "        mu_out.append(mu_now)\n",
    "        #print (i,mu_now,sig2_now)\n",
    "    return mu_out, sig2_out\n"
   ]
  },
  {
   "cell_type": "code",
   "execution_count": 154,
   "metadata": {},
   "outputs": [],
   "source": [
    "y = np.array([1.2, 1.4, -0.5, 0.3, 0.9, 2.3, 1.0, 0.1, 1.3, 1.9])\n",
    "y = np.array([-0.2,-1.5,-5.3,0.3,-0.8,-2.2])\n",
    "ybar = y.mean()\n",
    "n = len(y)\n",
    "\n",
    "## prior\n",
    "prior = {}\n",
    "prior['mu_0'] = 1.0\n",
    "prior['sig2_0'] = 1.0\n",
    "prior['n_0'] = 2.0 # prior effective sample size for sig2\n",
    "prior['s2_0'] = 1.0 # prior point estimate for sig2\n",
    "prior['nu_0'] = prior['n_0'] / 2.0 # prior parameter for inverse-gamma\n",
    "prior['beta_0'] = prior['n_0'] * prior['s2_0'] / 2.0 # prior parameter for inverse-gamma\n"
   ]
  },
  {
   "cell_type": "markdown",
   "metadata": {},
   "source": [
    "ejecutamos el algoritmo:"
   ]
  },
  {
   "cell_type": "code",
   "execution_count": 155,
   "metadata": {},
   "outputs": [],
   "source": [
    "init = {}\n",
    "init['mu'] = 0.0\n",
    "\n",
    "post = gibbs(y=y, n_iter=5000, init=init, prior=prior)"
   ]
  },
  {
   "cell_type": "code",
   "execution_count": 156,
   "metadata": {},
   "outputs": [
    {
     "data": {
      "text/plain": [
       "-0.4843800650117181"
      ]
     },
     "execution_count": 156,
     "metadata": {},
     "output_type": "execute_result"
    }
   ],
   "source": [
    "np.array(post[0]).mean()"
   ]
  },
  {
   "cell_type": "code",
   "execution_count": 157,
   "metadata": {},
   "outputs": [
    {
     "data": {
      "text/plain": [
       "0.750456272865138"
      ]
     },
     "execution_count": 157,
     "metadata": {},
     "output_type": "execute_result"
    }
   ],
   "source": [
    "np.array(post[0]).std()"
   ]
  },
  {
   "cell_type": "code",
   "execution_count": 122,
   "metadata": {},
   "outputs": [
    {
     "data": {
      "text/plain": [
       "(array([0.05224474, 0.        , 0.        , 0.        , 0.        ,\n",
       "        0.10448948, 0.        , 0.        , 0.05224474, 0.10448948,\n",
       "        0.10448948, 0.05224474, 0.10448948, 0.15673422, 0.05224474,\n",
       "        0.10448948, 0.10448948, 0.15673422, 0.20897896, 0.10448948,\n",
       "        0.15673422, 0.10448948, 0.10448948, 0.20897896, 0.05224474,\n",
       "        0.15673422, 0.41795791, 0.57469213, 0.31346843, 0.15673422,\n",
       "        0.41795791, 0.6791816 , 0.20897896, 0.88816056, 0.9404053 ,\n",
       "        0.62693687, 0.36571317, 0.62693687, 0.88816056, 0.99265004,\n",
       "        1.04489478, 0.9404053 , 0.88816056, 1.14938425, 1.09713952,\n",
       "        0.9404053 , 1.46285269, 1.56734216, 1.14938425, 1.77632112,\n",
       "        2.24652377, 1.41060795, 1.77632112, 1.14938425, 1.72407638,\n",
       "        1.30611847, 1.30611847, 0.99265004, 1.30611847, 0.99265004,\n",
       "        1.20162899, 1.51509743, 1.09713952, 1.25387373, 1.04489478,\n",
       "        1.35836321, 1.04489478, 0.62693687, 0.6791816 , 0.9404053 ,\n",
       "        0.41795791, 0.47020265, 0.52244739, 0.57469213, 0.15673422,\n",
       "        0.31346843, 0.15673422, 0.26122369, 0.41795791, 0.        ,\n",
       "        0.20897896, 0.20897896, 0.26122369, 0.05224474, 0.05224474,\n",
       "        0.31346843, 0.10448948, 0.10448948, 0.05224474, 0.05224474,\n",
       "        0.05224474, 0.10448948, 0.        , 0.        , 0.        ,\n",
       "        0.        , 0.        , 0.        , 0.        , 0.05224474]),\n",
       " array([-0.08536023, -0.06621955, -0.04707886, -0.02793818, -0.0087975 ,\n",
       "         0.01034319,  0.02948387,  0.04862455,  0.06776524,  0.08690592,\n",
       "         0.1060466 ,  0.12518729,  0.14432797,  0.16346865,  0.18260934,\n",
       "         0.20175002,  0.2208907 ,  0.24003139,  0.25917207,  0.27831275,\n",
       "         0.29745344,  0.31659412,  0.3357348 ,  0.35487549,  0.37401617,\n",
       "         0.39315685,  0.41229754,  0.43143822,  0.4505789 ,  0.46971959,\n",
       "         0.48886027,  0.50800095,  0.52714164,  0.54628232,  0.565423  ,\n",
       "         0.58456369,  0.60370437,  0.62284505,  0.64198574,  0.66112642,\n",
       "         0.6802671 ,  0.69940779,  0.71854847,  0.73768915,  0.75682984,\n",
       "         0.77597052,  0.7951112 ,  0.81425189,  0.83339257,  0.85253325,\n",
       "         0.87167394,  0.89081462,  0.9099553 ,  0.92909599,  0.94823667,\n",
       "         0.96737735,  0.98651804,  1.00565872,  1.0247994 ,  1.04394009,\n",
       "         1.06308077,  1.08222145,  1.10136214,  1.12050282,  1.1396435 ,\n",
       "         1.15878419,  1.17792487,  1.19706555,  1.21620623,  1.23534692,\n",
       "         1.2544876 ,  1.27362828,  1.29276897,  1.31190965,  1.33105033,\n",
       "         1.35019102,  1.3693317 ,  1.38847238,  1.40761307,  1.42675375,\n",
       "         1.44589443,  1.46503512,  1.4841758 ,  1.50331648,  1.52245717,\n",
       "         1.54159785,  1.56073853,  1.57987922,  1.5990199 ,  1.61816058,\n",
       "         1.63730127,  1.65644195,  1.67558263,  1.69472332,  1.713864  ,\n",
       "         1.73300468,  1.75214537,  1.77128605,  1.79042673,  1.80956742,\n",
       "         1.8287081 ]),\n",
       " <BarContainer object of 100 artists>)"
      ]
     },
     "execution_count": 122,
     "metadata": {},
     "output_type": "execute_result"
    },
    {
     "data": {
      "image/png": "[encoded data removed]",
      "text/plain": [
       "<Figure size 432x288 with 1 Axes>"
      ]
     },
     "metadata": {
      "needs_background": "light"
     },
     "output_type": "display_data"
    }
   ],
   "source": [
    "plt.hist(post[0],density=True,bins=100)"
   ]
  },
  {
   "cell_type": "code",
   "execution_count": 102,
   "metadata": {},
   "outputs": [
    {
     "data": {
      "text/plain": [
       "[<matplotlib.lines.Line2D at 0x7fe48f587130>]"
      ]
     },
     "execution_count": 102,
     "metadata": {},
     "output_type": "execute_result"
    },
    {
     "data": {
      "image/png": "[encoded data removed]",
      "text/plain": [
       "<Figure size 432x288 with 1 Axes>"
      ]
     },
     "metadata": {
      "needs_background": "light"
     },
     "output_type": "display_data"
    }
   ],
   "source": [
    "plt.plot(post[0])"
   ]
  },
  {
   "cell_type": "code",
   "execution_count": null,
   "metadata": {},
   "outputs": [],
   "source": []
  }
 ],
 "metadata": {
  "kernelspec": {
   "display_name": "Python 3",
   "language": "python",
   "name": "python3"
  },
  "language_info": {
   "codemirror_mode": {
    "name": "ipython",
    "version": 3
   },
   "file_extension": ".py",
   "mimetype": "text/x-python",
   "name": "python",
   "nbconvert_exporter": "python",
   "pygments_lexer": "ipython3",
   "version": "3.8.5"
  }
 },
 "nbformat": 4,
 "nbformat_minor": 4
}
