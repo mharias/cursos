{
 "cells": [
  {
   "cell_type": "code",
   "execution_count": 5,
   "id": "going-headquarters",
   "metadata": {},
   "outputs": [
    {
     "ename": "ERROR",
     "evalue": "Error in library(\"rjags\"): there is no package called ‘rjags’\n",
     "output_type": "error",
     "traceback": [
      "Error in library(\"rjags\"): there is no package called ‘rjags’\nTraceback:\n",
      "1. library(\"rjags\")"
     ]
    }
   ],
   "source": [
    "library('rjags')"
   ]
  },
  {
   "cell_type": "code",
   "execution_count": 6,
   "id": "limiting-integral",
   "metadata": {},
   "outputs": [
    {
     "ename": "ERROR",
     "evalue": "Error in install.package(\"rjags\"): no se pudo encontrar la función \"install.package\"\n",
     "output_type": "error",
     "traceback": [
      "Error in install.package(\"rjags\"): no se pudo encontrar la función \"install.package\"\nTraceback:\n"
     ]
    }
   ],
   "source": [
    "install.package('rjags')"
   ]
  },
  {
   "cell_type": "code",
   "execution_count": 7,
   "id": "metric-bouquet",
   "metadata": {},
   "outputs": [
    {
     "ename": "ERROR",
     "evalue": "Error in package.install(\"rjags\"): no se pudo encontrar la función \"package.install\"\n",
     "output_type": "error",
     "traceback": [
      "Error in package.install(\"rjags\"): no se pudo encontrar la función \"package.install\"\nTraceback:\n"
     ]
    }
   ],
   "source": [
    "package.install('rjags')"
   ]
  },
  {
   "cell_type": "code",
   "execution_count": 8,
   "id": "least-mongolia",
   "metadata": {},
   "outputs": [
    {
     "ename": "ERROR",
     "evalue": "Error in xy.coords(x, y, xlabel, ylabel, log): el argumento \"x\" está ausente, sin valor por omisión\n",
     "output_type": "error",
     "traceback": [
      "Error in xy.coords(x, y, xlabel, ylabel, log): el argumento \"x\" está ausente, sin valor por omisión\nTraceback:\n",
      "1. plot()",
      "2. plot.default()",
      "3. xy.coords(x, y, xlabel, ylabel, log)"
     ]
    }
   ],
   "source": [
    "plot()"
   ]
  },
  {
   "cell_type": "code",
   "execution_count": null,
   "id": "handled-pollution",
   "metadata": {},
   "outputs": [],
   "source": []
  },
  {
   "cell_type": "code",
   "execution_count": null,
   "id": "acceptable-bulgaria",
   "metadata": {},
   "outputs": [],
   "source": []
  }
 ],
 "metadata": {
  "kernelspec": {
   "display_name": "R",
   "language": "R",
   "name": "ir"
  },
  "language_info": {
   "codemirror_mode": "r",
   "file_extension": ".r",
   "mimetype": "text/x-r-source",
   "name": "R",
   "pygments_lexer": "r",
   "version": "3.6.1"
  }
 },
 "nbformat": 4,
 "nbformat_minor": 5
}
